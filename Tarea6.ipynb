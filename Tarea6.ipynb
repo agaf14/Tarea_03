{
  "nbformat": 4,
  "nbformat_minor": 0,
  "metadata": {
    "colab": {
      "provenance": [],
      "authorship_tag": "ABX9TyOzYouDW6f1AWDg7JmLx2Rr",
      "include_colab_link": true
    },
    "kernelspec": {
      "name": "python3",
      "display_name": "Python 3"
    },
    "language_info": {
      "name": "python"
    }
  },
  "cells": [
    {
      "cell_type": "markdown",
      "metadata": {
        "id": "view-in-github",
        "colab_type": "text"
      },
      "source": [
        "<a href=\"https://colab.research.google.com/github/agaf14/Tarea_03/blob/main/Tarea6.ipynb\" target=\"_parent\"><img src=\"https://colab.research.google.com/assets/colab-badge.svg\" alt=\"Open In Colab\"/></a>"
      ]
    },
    {
      "cell_type": "code",
      "execution_count": null,
      "metadata": {
        "id": "x02hWEy_QrtV"
      },
      "outputs": [],
      "source": [
        "#Código y ejemplo de la solución\n",
        "\n",
        "#Librerias utilizadas\n",
        "import matplotlib.pyplot as plt\n",
        "import numpy as np\n",
        "import math\n",
        "import ipywidgets as widgets\n",
        "from ipywidgets import interact\n",
        "\n",
        "#Código de la solución y funciones\n",
        "\n",
        "def lagrange_interpolation(points,x):\n",
        "\n",
        "    n=len(points)\n",
        "    result = 0\n",
        "    for i in range(n):\n",
        "        term = points[i][1]\n",
        "        for j in range(n):\n",
        "            if i != j:\n",
        "                term *= (x - points[j][0]) / (points[i][0] - points[j][0])\n",
        "        result += term\n",
        "    return result\n",
        "\n",
        "\n",
        "\n"
      ]
    },
    {
      "cell_type": "code",
      "source": [
        "points=[(100,9.2),(200,12.6),(400,16.6),(600,19.8),(800,22.6),(1000,25.4)]\n",
        "x = float(input(\"¿Cuál es la temperatura que buscas?  \"))\n",
        "n = len(points)\n",
        "interpolated_value =  lagrange_interpolation(points, x)\n",
        "print(\"El valor interpolado en T =\", x, \"es:\", interpolated_value)\n"
      ],
      "metadata": {
        "colab": {
          "base_uri": "https://localhost:8080/"
        },
        "id": "Age9azVaZoJa",
        "outputId": "cd022ad6-0e0b-49e2-fa2d-65babc5984bf"
      },
      "execution_count": null,
      "outputs": [
        {
          "output_type": "stream",
          "name": "stdout",
          "text": [
            "¿Cuál es la temperatura que buscas?  550\n",
            "El valor interpolado en T = 550.0 es: 19.022656250000004\n"
          ]
        }
      ]
    },
    {
      "cell_type": "code",
      "source": [
        "ktot=(19.6+16.6)/2\n",
        "L=0.3\n",
        "q=ktot*((600-400)/L)\n",
        "print(q)\n",
        "\n",
        "def Tx(t0)=(q*L/ktot)+"
      ],
      "metadata": {
        "colab": {
          "base_uri": "https://localhost:8080/"
        },
        "id": "qxf610iaesoK",
        "outputId": "5fc0e57b-a0f5-4716-bcf8-d43d11bd75d3"
      },
      "execution_count": null,
      "outputs": [
        {
          "output_type": "stream",
          "name": "stdout",
          "text": [
            "12066.66666666667\n"
          ]
        }
      ]
    }
  ]
}