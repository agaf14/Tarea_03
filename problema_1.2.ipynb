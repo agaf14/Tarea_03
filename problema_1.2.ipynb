{
 "cells": [
  {
   "cell_type": "markdown",
   "id": "52a6d870",
   "metadata": {
    "deletable": false,
    "editable": false,
    "nbgrader": {
     "cell_type": "markdown",
     "checksum": "845e379d010711bb6a7b331ee2e4d388",
     "grade": false,
     "grade_id": "cell-a995f8ee392970bb",
     "locked": true,
     "schema_version": 3,
     "solution": false,
     "task": false
    }
   },
   "source": [
    "<div>\n",
    "<img align=\"center\"\n",
    "src=\"Images/banner.png\" width=\"950\" height=\"9500\"/>"
   ]
  },
  {
   "cell_type": "markdown",
   "id": "205edc2e",
   "metadata": {
    "deletable": false,
    "editable": false,
    "nbgrader": {
     "cell_type": "markdown",
     "checksum": "a131b1eaaf959579b8942e6660447112",
     "grade": false,
     "grade_id": "cell-dbfaca9af80458e8",
     "locked": true,
     "schema_version": 3,
     "solution": false,
     "task": false
    }
   },
   "source": [
    "#### <font color='#09427D'>Tarea 3: Describir la expansión de una función en términos de la Serie de Taylor  </font>\n",
    "\n",
    "Una serie de Taylor es una suma de potencias enteras que cuando son sumandos se aproximan a una función matemática.\n",
    "\n",
    "\n",
    "$$ \\sum_{n=0}^{\\infty} \\dfrac{f^{(n)}(a)}{1!}(x-a)^{n} = f(a) + \\dfrac{f^{'}(a)}{1!}(x-a) + \\dfrac{f^{''}(a)}{2!} (x-a)^{2} +  \\dfrac{f^{'''}(a)}{2!} (x-a)^{3}+ \\cdot \\cdot \\cdot$$\n",
    "\n",
    "\n",
    "Hacer la serie de Taylor que se aproxima a la función $e^x$\n",
    "\n",
    "$$e^x \\approx \\sum_{n=0}^{\\infty} \\dfrac{x^n}{n!} \\approx 1 + x + \\dfrac{x^2}{2!} + \\dfrac{x^3}{3!}$$"
   ]
  },
  {
   "cell_type": "code",
   "execution_count": null,
   "id": "251d5659",
   "metadata": {},
   "outputs": [],
   "source": [
    "from sympy import symbols, diff, factorial, exp,ln, pretty_print\n",
    "import matplotlib.pyplot as plt\n",
    "import numpy as np\n",
    "from sympy.plotting import plot\n",
    "from sympy import *\n"
   ]
  },
  {
   "cell_type": "code",
   "execution_count": null,
   "id": "8b0641d5",
   "metadata": {
    "deletable": false,
    "nbgrader": {
     "cell_type": "code",
     "checksum": "28f6f472df572582d0373fccd7749e8c",
     "grade": true,
     "grade_id": "cell-b214124b84d43c07",
     "locked": false,
     "points": 1,
     "schema_version": 3,
     "solution": true,
     "task": false
    }
   },
   "outputs": [],
   "source": [
    "# YOUR CODE HERE\n",
    "raise NotImplementedError()"
   ]
  },
  {
   "cell_type": "markdown",
   "id": "30cbc040",
   "metadata": {
    "deletable": false,
    "editable": false,
    "nbgrader": {
     "cell_type": "markdown",
     "checksum": "65891e94142d4d02a7e1c90fe1ae0d08",
     "grade": false,
     "grade_id": "cell-d74eac818fc99b30",
     "locked": true,
     "schema_version": 3,
     "solution": false,
     "task": false
    }
   },
   "source": [
    "#### Describr el concepto de energía interna ρcpΔT en el contexto de la termodinámica\n",
    "\n"
   ]
  },
  {
   "cell_type": "markdown",
   "id": "94dc36ff",
   "metadata": {
    "deletable": false,
    "editable": false,
    "nbgrader": {
     "cell_type": "markdown",
     "checksum": "e5f0df64b675984493f5aed7203527dd",
     "grade": false,
     "grade_id": "cell-a9c35e08530e31e3",
     "locked": true,
     "schema_version": 3,
     "solution": false,
     "task": false
    }
   },
   "source": [
    "### <font color='#09427D'><center>Problema 1.2</font>\n",
    "    \n",
    "    \n",
    "Una pared de concreto, que tiene un área superificial de $A=20 \\mbox{m}^2$ y $L=0.30 \\mbox{m}$ de espesor, separa el aire acondicionado de una habitación del aire ambiental. La temperatura de la superficie interna de la pared se mantiene a $T_1=25 ^\\circ \\mbox{C}$ y la conductividad térmica del concreto es $k=1 \\mbox{W/mK}$.\n",
    "<div>\n",
    "<pre>\n",
    "<img align=\"center\"\n",
    "src=\"Images/bloquep12.jpg\" width=\"300\" height=\"300\"/>\n",
    "</div>  \n",
    "    "
   ]
  },
  {
   "cell_type": "markdown",
   "id": "5075c2c1",
   "metadata": {
    "deletable": false,
    "editable": false,
    "nbgrader": {
     "cell_type": "markdown",
     "checksum": "9bc4b4e9adbbe05a24333d8a48ad4219",
     "grade": false,
     "grade_id": "cell-05dce4280839f7b7",
     "locked": true,
     "schema_version": 3,
     "solution": false,
     "task": false
    }
   },
   "source": [
    "1. Crea una función que calcule la pérdida de calor a través de la pared para temperaturas ambientes $T_a$ en el rango de $-15 ^\\circ \\mbox{C}$ a $ 38 ^\\circ \\mbox{C}$, que corresponden a extremos de invierno y verano, respectivamente. Comprueba tu resultado y muestra que la grafica de la pérdida de calor es como la siguienta figura\n",
    " \n",
    "<div>\n",
    "<img align=\"center\"\n",
    "src=\"Images/Tarea2-1.png\" width=\"370\" height=\"370\"/>\n",
    "</div>   \n"
   ]
  },
  {
   "cell_type": "code",
   "execution_count": null,
   "id": "d1c66a99",
   "metadata": {},
   "outputs": [],
   "source": [
    "#importar bibliotecas \n",
    "import numpy as np \n",
    "import matplotlib.pyplot as plt \n",
    "from macti.evaluacion import Evalua\n",
    "evaluacion = Evalua(\"../utils/data/solutions\", local=True)\n",
    "#evaluacion = Evalua(\"../../utils/data/solutions\", local=True)"
   ]
  },
  {
   "cell_type": "markdown",
   "id": "036d07db",
   "metadata": {
    "deletable": false,
    "editable": false,
    "nbgrader": {
     "cell_type": "markdown",
     "checksum": "348acb7ac15a542da6e57418b2e8b44f",
     "grade": false,
     "grade_id": "cell-cc3e3e52f123e2b9",
     "locked": true,
     "schema_version": 3,
     "solution": false,
     "task": false
    }
   },
   "source": [
    "Definir los valores de los parámetros que se conocen"
   ]
  },
  {
   "cell_type": "code",
   "execution_count": null,
   "id": "4fcecda7",
   "metadata": {
    "deletable": false,
    "nbgrader": {
     "cell_type": "code",
     "checksum": "491b38a5c466c2e477c59bcec9d035b3",
     "grade": true,
     "grade_id": "parametros",
     "locked": false,
     "points": 1,
     "schema_version": 3,
     "solution": true,
     "task": false
    }
   },
   "outputs": [],
   "source": [
    "# YOUR CODE HERE\n",
    "raise NotImplementedError()"
   ]
  },
  {
   "cell_type": "code",
   "execution_count": null,
   "id": "083f6027",
   "metadata": {
    "deletable": false,
    "nbgrader": {
     "cell_type": "code",
     "checksum": "f1aa867ec432cc3c6dd4c29af332d323",
     "grade": false,
     "grade_id": "perdida_de_calor",
     "locked": false,
     "schema_version": 3,
     "solution": true,
     "task": false
    }
   },
   "outputs": [],
   "source": [
    "def qx(k,A,T1,Ta,L):\n",
    "    # YOUR CODE HERE\n",
    "    raise NotImplementedError()"
   ]
  },
  {
   "cell_type": "code",
   "execution_count": null,
   "id": "adabfdfa",
   "metadata": {
    "deletable": false,
    "editable": false,
    "nbgrader": {
     "cell_type": "code",
     "checksum": "5e74d303abbaf580098cf68c38f6cc03",
     "grade": false,
     "grade_id": "cell-07e804042a1e3cd2",
     "locked": true,
     "schema_version": 3,
     "solution": false,
     "task": false
    }
   },
   "outputs": [],
   "source": [
    "evaluacion.verifica(qx(k,A,T1,Ta,L),3)"
   ]
  },
  {
   "cell_type": "markdown",
   "id": "7345f446",
   "metadata": {
    "deletable": false,
    "editable": false,
    "nbgrader": {
     "cell_type": "markdown",
     "checksum": "b065a7fcd533180e9725faa675994a27",
     "grade": false,
     "grade_id": "cell-e284292c7a9f9a41",
     "locked": true,
     "schema_version": 3,
     "solution": false,
     "task": false
    }
   },
   "source": [
    "2. Grafica la pérdida de calor $q_x$ como función de la temperatura $T_a$ ambiente para materiales de la pared que tengan conductividades térmicas de $k_0=1 \\mbox{W/mK}$, $k_1=0.75$ y $k_2=1.25 \\mbox{W/mK}$. Compara tu gráfica con la siguiente figura\n",
    "<pre>\n",
    "<div>\n",
    "<img align=\"center\"\n",
    "src=\"Images/Tarea2-2.png\" width=\"370\" height=\"370\"/>\n",
    "</div>   "
   ]
  },
  {
   "cell_type": "code",
   "execution_count": null,
   "id": "f9874743",
   "metadata": {
    "deletable": false,
    "nbgrader": {
     "cell_type": "code",
     "checksum": "25cc8036554744f84490b0cf84b94228",
     "grade": true,
     "grade_id": "grafica",
     "locked": false,
     "points": 1,
     "schema_version": 3,
     "solution": true,
     "task": false
    }
   },
   "outputs": [],
   "source": [
    "# YOUR CODE HERE\n",
    "raise NotImplementedError()"
   ]
  },
  {
   "cell_type": "markdown",
   "id": "b6c4fbcb",
   "metadata": {
    "deletable": false,
    "editable": false,
    "nbgrader": {
     "cell_type": "markdown",
     "checksum": "ace389981da1f81ef5477cbfdadcaf3f",
     "grade": false,
     "grade_id": "cell-46881eedac8efc77",
     "locked": true,
     "schema_version": 3,
     "solution": false,
     "task": false
    }
   },
   "source": [
    "Explica la gráfica de la pérdida de calor $q_x$ en función de la temperatura ambiente $T_a$ para diferentes conductividades térmicas"
   ]
  },
  {
   "cell_type": "markdown",
   "id": "fea8029d",
   "metadata": {
    "deletable": false,
    "nbgrader": {
     "cell_type": "markdown",
     "checksum": "7375f20c9e36b5a98b7eec70f1a15953",
     "grade": true,
     "grade_id": "Describe_grafica",
     "locked": false,
     "points": 2,
     "schema_version": 3,
     "solution": true,
     "task": false
    }
   },
   "source": [
    "YOUR ANSWER HERE"
   ]
  }
 ],
 "metadata": {
  "kernelspec": {
   "display_name": "Python 3 (ipykernel)",
   "language": "python",
   "name": "python3"
  },
  "language_info": {
   "codemirror_mode": {
    "name": "ipython",
    "version": 3
   },
   "file_extension": ".py",
   "mimetype": "text/x-python",
   "name": "python",
   "nbconvert_exporter": "python",
   "pygments_lexer": "ipython3",
   "version": "3.9.7"
  }
 },
 "nbformat": 4,
 "nbformat_minor": 5
}
