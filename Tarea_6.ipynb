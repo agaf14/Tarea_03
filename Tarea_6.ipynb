{
  "nbformat": 4,
  "nbformat_minor": 0,
  "metadata": {
    "colab": {
      "provenance": [],
      "authorship_tag": "ABX9TyOxbH+cKrtx8h745fY4AIDx",
      "include_colab_link": true
    },
    "kernelspec": {
      "name": "python3",
      "display_name": "Python 3"
    },
    "language_info": {
      "name": "python"
    }
  },
  "cells": [
    {
      "cell_type": "markdown",
      "metadata": {
        "id": "view-in-github",
        "colab_type": "text"
      },
      "source": [
        "<a href=\"https://colab.research.google.com/github/agaf14/Tarea_03/blob/main/Tarea_6.ipynb\" target=\"_parent\"><img src=\"https://colab.research.google.com/assets/colab-badge.svg\" alt=\"Open In Colab\"/></a>"
      ]
    },
    {
      "cell_type": "markdown",
      "source": [
        "Aproximar K(T) con los datos de la tabla obtenemos k0 y k1 en donde \"y\" es el valor de k y \"x\" la Temperatura\n",
        "\n",
        "y- 16.6 = (19.8-16.6/600-400)(x-400)\n",
        "\n",
        "Al hacer la función nos da\n",
        "y = 0.016x + 10.2\n",
        "\n",
        "En este caso, tomaremos como k1 a 0.016 y como k0 a 10.2\n",
        "\n",
        "por lo que la ecuación quedará como\n",
        "\n"
      ],
      "metadata": {
        "id": "AY0f6TS_lfOB"
      }
    },
    {
      "cell_type": "code",
      "execution_count": null,
      "metadata": {
        "colab": {
          "base_uri": "https://localhost:8080/"
        },
        "id": "_q_2UyzJlbwN",
        "outputId": "b30895a7-0a9f-47be-afce-e4d3da201dbb"
      },
      "outputs": [
        {
          "output_type": "stream",
          "name": "stdout",
          "text": [
            "Ingerese la temperatura  500\n",
            "El resultado de k es  18.2\n"
          ]
        }
      ],
      "source": [
        "#Código y ejemplo de la solución\n",
        "\n",
        "#Librerias utilizadas\n",
        "import matplotlib.pyplot as plt\n",
        "import numpy as np\n",
        "import math\n",
        "import ipywidgets as widgets\n",
        "from ipywidgets import interact\n",
        "\n",
        "\n",
        "k1=0.016\n",
        "k0=10.2\n",
        "T=float(input(\"Ingerese la temperatura  \"))\n",
        "T_k=  (k1*T) + k0\n",
        "print(\"El resultado de k es  \" + str(T_k))"
      ]
    },
    {
      "cell_type": "code",
      "source": [
        "L=0.3\n",
        "Tp1=float(input(\"Ingerese la temperatura 1 \"))\n",
        "Tp2=float(input(\"Ingerese la temperatura 2 \"))\n",
        "k_prom=  ((((k1*Tp1) + k0) + ((k1*Tp2) + k0))/2)\n",
        "\n",
        "q= -k_prom*((Tp2-Tp1)/L)\n",
        "print(q)\n"
      ],
      "metadata": {
        "colab": {
          "base_uri": "https://localhost:8080/"
        },
        "id": "ImFW0WJLsWx3",
        "outputId": "bddd1b1d-aac6-4392-f6a3-7f81c9fe7d7e"
      },
      "execution_count": null,
      "outputs": [
        {
          "output_type": "stream",
          "name": "stdout",
          "text": [
            "Ingerese la temperatura 1 600\n",
            "Ingerese la temperatura 2 400\n",
            "12133.333333333334\n"
          ]
        }
      ]
    },
    {
      "cell_type": "markdown",
      "source": [
        "Campo de Temperaturas\n",
        "Lo encontramos con la ley de fourier haciendo una función de la temperatura respecto a la posición\n",
        "\n",
        "q' = -k(T2-T1)/L\n",
        "\n",
        "T2(x)=T1-(q'*x/k)"
      ],
      "metadata": {
        "id": "p_-wKewRuYHJ"
      }
    },
    {
      "cell_type": "code",
      "source": [
        "def Tem(l):\n",
        "  return Tp1-(q*l/k_prom)\n",
        "l=np.linspace(0,0.3,10)\n",
        "\n",
        "plt.plot(l,Tem(l))\n",
        "plt.xlabel(\"x[m]\")\n",
        "plt.ylabel(\"Temperatura [K]\")\n",
        "plt.grid()"
      ],
      "metadata": {
        "colab": {
          "base_uri": "https://localhost:8080/",
          "height": 279
        },
        "id": "0Vae_ILTuXag",
        "outputId": "cd546ad9-c956-43ef-969a-3dffbf48ce00"
      },
      "execution_count": null,
      "outputs": [
        {
          "output_type": "display_data",
          "data": {
            "text/plain": [
              "<Figure size 432x288 with 1 Axes>"
            ],
            "image/png": "[encoded data removed]"
          },
          "metadata": {
            "needs_background": "light"
          }
        }
      ]
    },
    {
      "cell_type": "markdown",
      "source": [
        "para este problema se ocupa lo mismo que en el de arriba con la diferencia de que K es funa función que varia\n"
      ],
      "metadata": {
        "id": "WCc8E4fKz1sY"
      }
    },
    {
      "cell_type": "code",
      "source": [
        "def Tf(l):\n",
        "  return Tp1 - (Tp2-Tp1/l)\n",
        "l=np.linspace(0,0.3,10)\n",
        "\n",
        "plt.plot(l,Tf(l))\n",
        "plt.xlabel(\"x[m]\")\n",
        "plt.ylabel(\"Temperatura [K]\")\n",
        "plt.grid()"
      ],
      "metadata": {
        "colab": {
          "base_uri": "https://localhost:8080/",
          "height": 314
        },
        "id": "Tw0qnAxEz-1i",
        "outputId": "6b52508f-3cad-45b9-d3b7-8154fe7b5656"
      },
      "execution_count": null,
      "outputs": [
        {
          "output_type": "stream",
          "name": "stderr",
          "text": [
            "<ipython-input-42-15862df4a343>:2: RuntimeWarning: divide by zero encountered in true_divide\n",
            "  return Tp1 - (Tp2-Tp1/l)\n"
          ]
        },
        {
          "output_type": "display_data",
          "data": {
            "text/plain": [
              "<Figure size 432x288 with 1 Axes>"
            ],
            "image/png": "[encoded data removed]"
          },
          "metadata": {
            "needs_background": "light"
          }
        }
      ]
    },
    {
      "cell_type": "code",
      "source": [
        "plt.plot(l,Tem(l),label='1W/mK')\n",
        "plt.plot(l,Tf(l),label='0.75W/mK')"
      ],
      "metadata": {
        "colab": {
          "base_uri": "https://localhost:8080/",
          "height": 317
        },
        "id": "6svURaLb7Njw",
        "outputId": "ba2d12db-e8c4-4ec3-9606-ca7852ac8e42"
      },
      "execution_count": null,
      "outputs": [
        {
          "output_type": "stream",
          "name": "stderr",
          "text": [
            "<ipython-input-40-eef968a5dca7>:2: RuntimeWarning: divide by zero encountered in true_divide\n",
            "  return Tp1 - (Tp2-Tp1/l)\n"
          ]
        },
        {
          "output_type": "execute_result",
          "data": {
            "text/plain": [
              "[<matplotlib.lines.Line2D at 0x7f237d2844c0>]"
            ]
          },
          "metadata": {},
          "execution_count": 41
        },
        {
          "output_type": "display_data",
          "data": {
            "text/plain": [
              "<Figure size 432x288 with 1 Axes>"
            ],
            "image/png": "[encoded data removed]"
          },
          "metadata": {
            "needs_background": "light"
          }
        }
      ]
    }
  ]
}